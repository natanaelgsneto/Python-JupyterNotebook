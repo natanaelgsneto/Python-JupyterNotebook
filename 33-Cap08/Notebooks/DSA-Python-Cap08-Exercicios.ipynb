{
 "cells": [
  {
   "cell_type": "markdown",
   "metadata": {},
   "source": [
    "# <font color='blue'>Data Science Academy</font>\n",
    "\n",
    "## <font color='blue'>Fundamentos de Linguagem Python Para Análise de Dados e Data Science</font>\n",
    "\n",
    "## <font color='blue'>Introdução à Programação Orientada a Objetos</font>"
   ]
  },
  {
   "cell_type": "code",
   "execution_count": 1,
   "metadata": {},
   "outputs": [
    {
     "name": "stdout",
     "output_type": "stream",
     "text": [
      "Versão da Linguagem Python Usada Neste Jupyter Notebook: 3.12.4\n"
     ]
    }
   ],
   "source": [
    "# Versão da Linguagem Python\n",
    "from platform import python_version\n",
    "print('Versão da Linguagem Python Usada Neste Jupyter Notebook:', python_version())"
   ]
  },
  {
   "cell_type": "markdown",
   "metadata": {},
   "source": [
    "## Exercícios"
   ]
  },
  {
   "cell_type": "code",
   "execution_count": null,
   "metadata": {},
   "outputs": [],
   "source": [
    "# Exercício 1 - Crie um objeto a partir da classe abaixo, chamado roc1, \n",
    "# passando 2 parâmetros e depois faça uma chamada aos atributos e métodos\n",
    "from math import sqrt\n",
    "\n",
    "class Rocket():\n",
    "     \n",
    "    def __init__(self, x=0, y=0):\n",
    "        self.x = x\n",
    "        self.y = y\n",
    "        \n",
    "    def move_rocket(self, x_increment=0, y_increment=1):\n",
    "        self.x += x_increment\n",
    "        self.y += y_increment\n",
    "        \n",
    "    def print_rocket(self):\n",
    "        print(self.x, self.y)\n",
    "        "
   ]
  },
  {
   "cell_type": "code",
   "execution_count": 21,
   "metadata": {
    "scrolled": true
   },
   "outputs": [
    {
     "name": "stdout",
     "output_type": "stream",
     "text": [
      "Objeto criado\n"
     ]
    },
    {
     "data": {
      "text/plain": [
       "'O usuário Pele mora na cidade Três Corações e seu email é pele@gmail.com'"
      ]
     },
     "execution_count": 21,
     "metadata": {},
     "output_type": "execute_result"
    }
   ],
   "source": [
    "# Exercício 2 - Crie uma classe chamada Pessoa() com os atributos: nome, cidade, telefone e e-mail. Use pelo menos 2\n",
    "# métodos especiais na sua classe. Crie um objeto da sua classe e faça uma chamada a pelo menos um dos seus métodos\n",
    "# especiais.\n",
    "\n",
    "class Pessoa():\n",
    "    \n",
    "    def __init__(self, nome, cidade, telefone, email):\n",
    "        self.nome = nome\n",
    "        self.cidade = cidade\n",
    "        self.telefone = telefone\n",
    "        self.email = email\n",
    "        print(\"Objeto criado\")\n",
    "\n",
    "    def __str__(self):\n",
    "        return \"O usuário \" + self.nome + \" mora na cidade \" + self.cidade + \" e seu email é \" +self.email\n",
    "\n",
    "P1 = Pessoa(\"Pele\", \"Três Corações\", 99887766, \"pele@gmail.com\")\n",
    "str(P1)\n",
    " "
   ]
  },
  {
   "cell_type": "code",
   "execution_count": 24,
   "metadata": {},
   "outputs": [
    {
     "name": "stdout",
     "output_type": "stream",
     "text": [
      "As características do dispositivo são: tamanho 120 x 110 x 30 mm, interface LCD e capacidade de 4GB.\n"
     ]
    }
   ],
   "source": [
    "# Exercício 3 - Crie a classe Smartphone com 2 atributos, tamanho e interface e crie a classe MP3Player com os \n",
    "# atributos capacidade. A classe MP3player deve herdar os atributos da classe Smartphone.\n",
    "\n",
    "class Smartphone(object):\n",
    "    def __init__(self, tamanho, interface):\n",
    "        self.tamanho = tamanho\n",
    "        self.interface = interface\n",
    "        \n",
    "class MP3Player(Smartphone):\n",
    "    def __init__(self, capacidade, tamanho, interface):\n",
    "        self.capacidade = capacidade\n",
    "        # esta linha Smartphone.__init_(self,tamanho,interface) mostra que a classe MP3Player herda os atributos tamanho e interface.\n",
    "        #A palavra Smartphone.__init__ faz referência a classe Pai denominada super classe \n",
    "        Smartphone.__init__(self, tamanho, interface) \n",
    "        \n",
    "    def valores(self):\n",
    "        print(f\"As características do dispositivo são: tamanho {self.tamanho}, interface {self.interface} e capacidade de {self.capacidade}.\")\n",
    "\n",
    "dispositivo = MP3Player('4GB', '120 x 110 x 30 mm', 'LCD')\n",
    "dispositivo.valores()\n",
    "\n"
   ]
  },
  {
   "cell_type": "code",
   "execution_count": 26,
   "metadata": {},
   "outputs": [
    {
     "name": "stdout",
     "output_type": "stream",
     "text": [
      "Funcionário contratado.\n",
      "Seja bem-vindo(a), [1] José (Administrativo I)!\n",
      "Funcionário contratado.\n",
      "Seja bem-vindo(a), [2] Maria - Diretoria: Recursos Humanos!\n",
      "Funcionário contratado.\n",
      "Seja bem-vindo(a), [3] Paulo - Diretoria: Financeiro!\n",
      "Funcionário contratado.\n",
      "Seja bem-vindo(a), [4] Joana (Administrativo I)!\n",
      "================================================================================\n",
      "                        ** Relatório de funcionários **                         \n",
      "+------------+----------------------------------------+------------------------+\n",
      "| Matricula  |                  Nome                  |    Função/Diretoria    |\n",
      "+------------+----------------------------------------+------------------------+\n",
      "|           1|José                                    |Administrativo I        |\n",
      "|           2|Maria                                   |Recursos Humanos        |\n",
      "|           3|Paulo                                   |Financeiro              |\n",
      "|           4|Joana                                   |Administrativo I        |\n",
      "+------------+----------------------------------------+------------------------+\n"
     ]
    }
   ],
   "source": [
    "class Funcionario:\n",
    "    def __init__(self, matricula, pessoa):\n",
    "        self.matricula = matricula\n",
    "        self.pessoa = pessoa\n",
    "\n",
    "    def __str__(self):\n",
    "        return '[{}] {}'.format(self.matricula, self.pessoa.nome)\n",
    "\n",
    "\n",
    "class FuncionarioAdministrativo(Funcionario):\n",
    "    def __init__(self, matricula, pessoa, cargo):\n",
    "        super().__init__(matricula, pessoa)\n",
    "        self.cargo = cargo\n",
    "\n",
    "    def __str__(self):\n",
    "        return '[{}] {} ({})'.format(self.matricula, self.pessoa.nome, self.cargo)\n",
    "\n",
    "\n",
    "class FuncionarioDaDiretoria(Funcionario):\n",
    "    def __init__(self, matricula, pessoa, diretoria):\n",
    "        super().__init__(matricula, pessoa)\n",
    "        self.diretoria = diretoria\n",
    "\n",
    "    def __str__(self):\n",
    "        return '[{}] {} - Diretoria: {}'.format(self.matricula, self.pessoa.nome, self.diretoria)\n",
    "#Dessa vez a sobrescrita continua sendo utilizada no método __str__() das subclasses, mas sem usar uma referência à superclasse.\n",
    "\n",
    "#Exemplo 4: Empresa (baseado nos exemplos 2 e 3)\n",
    "\n",
    "#Este exemplo demonstra um código mais completo, utilizando ainda outros recursos do Python.\n",
    "\n",
    "class Pessoa:\n",
    "    def __init__(self, nome):\n",
    "        self.nome = nome\n",
    "\n",
    "    def __str__(self):\n",
    "        return self.nome\n",
    "\n",
    "\n",
    "class Funcionario:\n",
    "    def __init__(self, matricula, pessoa):\n",
    "        self.matricula = matricula\n",
    "        self.pessoa = pessoa\n",
    "\n",
    "    def __str__(self):\n",
    "        return '[{}] {}'.format(self.matricula, self.pessoa.nome)\n",
    "\n",
    "\n",
    "class FuncionarioAdministrativo(Funcionario):\n",
    "    def __init__(self, matricula, pessoa, cargo):\n",
    "        super().__init__(matricula, pessoa)\n",
    "        self.cargo = cargo\n",
    "\n",
    "    def __str__(self):\n",
    "        return '[{}] {} ({})'.format(self.matricula, self.pessoa.nome, self.cargo)\n",
    "\n",
    "\n",
    "class FuncionarioDaDiretoria(Funcionario):\n",
    "    def __init__(self, matricula, pessoa, diretoria):\n",
    "        super().__init__(matricula, pessoa)\n",
    "        self.diretoria = diretoria\n",
    "\n",
    "    def __str__(self):\n",
    "        return '[{}] {} - Diretoria: {}'.format(self.matricula, self.pessoa.nome, self.diretoria)\n",
    "\n",
    "\n",
    "class Empresa:\n",
    "    def __init__(self):\n",
    "        self.funcionarios = []\n",
    "\n",
    "    def contratar(self, pessoa, funcao, diretoria=None):\n",
    "        matricula = len(self.funcionarios) + 1\n",
    "        funcionario = None\n",
    "        if funcao == 'Diretor':\n",
    "            funcionario = FuncionarioDaDiretoria(\n",
    "                matricula, pessoa, diretoria)\n",
    "        else:\n",
    "            funcionario = FuncionarioAdministrativo(\n",
    "                matricula, pessoa, 'Administrativo I')\n",
    "        self.funcionarios.append(funcionario)\n",
    "        print('Funcionário contratado.')\n",
    "        print('Seja bem-vindo(a), {}!'.format(funcionario))\n",
    "\n",
    "    def imprimir_relatorio_funcionarios(self):\n",
    "        largura = 80\n",
    "        print('=' * largura)\n",
    "        print('** Relatório de funcionários **'.center(largura))\n",
    "        largura_matricula = int(.15 * largura)\n",
    "        largura_nome = int(.5 * largura)\n",
    "        largura_funcao = int(.3 * largura)\n",
    "        print('+{}+{}+{}+'.format('-' * largura_matricula,\n",
    "                                  '-' * largura_nome, '-' * largura_funcao))\n",
    "        print('|{:^{lm}}|{:^{ln}}|{:^{lf}}|'.format('Matricula', 'Nome', 'Função/Diretoria',\n",
    "                                                    lm=largura_matricula, ln=largura_nome, lf=largura_funcao))\n",
    "        print('+{}+{}+{}+'.format('-' * largura_matricula,\n",
    "                                  '-' * largura_nome, '-' * largura_funcao))\n",
    "        for funcionario in self.funcionarios:\n",
    "            if isinstance(funcionario, FuncionarioAdministrativo):\n",
    "                print('|{:>{lm}}|{:<{ln}}|{:<{lf}}|'.format(\n",
    "                    funcionario.matricula, funcionario.pessoa.nome, funcionario.cargo,\n",
    "                    lm=largura_matricula, ln=largura_nome, lf=largura_funcao))\n",
    "            else:\n",
    "                print('|{:>{lm}}|{:<{ln}}|{:<{lf}}|'.format(\n",
    "                    funcionario.matricula, funcionario.pessoa.nome, funcionario.diretoria,\n",
    "                    lm=largura_matricula, ln=largura_nome, lf=largura_funcao))\n",
    "        print('+{}+{}+{}+'.format('-' * largura_matricula,\n",
    "                                  '-' * largura_nome, '-' * largura_funcao))\n",
    "\n",
    "\n",
    "''' teste do modelo de objetos '''\n",
    "\n",
    "e1 = Empresa()\n",
    "jose = Pessoa('José')\n",
    "maria = Pessoa('Maria')\n",
    "paulo = Pessoa('Paulo')\n",
    "joana = Pessoa('Joana')\n",
    "e1.contratar(jose, 'Administrativo')\n",
    "e1.contratar(maria, 'Diretor', 'Recursos Humanos')\n",
    "e1.contratar(paulo, 'Diretor', 'Financeiro')\n",
    "e1.contratar(joana, 'Administrativo')\n",
    "e1.imprimir_relatorio_funcionarios()"
   ]
  },
  {
   "cell_type": "markdown",
   "metadata": {},
   "source": [
    "### FIM"
   ]
  },
  {
   "cell_type": "markdown",
   "metadata": {},
   "source": [
    "### Obrigado\n",
    "\n",
    "### Visite o Blog da Data Science Academy - <a href=\"http://blog.dsacademy.com.br\">Blog DSA</a>"
   ]
  }
 ],
 "metadata": {
  "kernelspec": {
   "display_name": "Python 3 (ipykernel)",
   "language": "python",
   "name": "python3"
  },
  "language_info": {
   "codemirror_mode": {
    "name": "ipython",
    "version": 3
   },
   "file_extension": ".py",
   "mimetype": "text/x-python",
   "name": "python",
   "nbconvert_exporter": "python",
   "pygments_lexer": "ipython3",
   "version": "3.12.4"
  }
 },
 "nbformat": 4,
 "nbformat_minor": 4
}
